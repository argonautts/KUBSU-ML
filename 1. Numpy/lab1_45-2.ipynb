{
 "cells": [
  {
   "cell_type": "markdown",
   "source": [
    "# Лабораторная работа №1\n",
    "Группа 45/2\n",
    "---"
   ],
   "metadata": {
    "collapsed": false
   }
  },
  {
   "cell_type": "markdown",
   "source": [
    "**Импорт библиотек**"
   ],
   "metadata": {
    "collapsed": false
   }
  },
  {
   "cell_type": "code",
   "execution_count": 53,
   "outputs": [],
   "source": [
    "import numpy as np\n",
    "from collections import Counter"
   ],
   "metadata": {
    "collapsed": false,
    "ExecuteTime": {
     "end_time": "2023-09-15T08:55:22.731993Z",
     "start_time": "2023-09-15T08:55:22.685491Z"
    }
   }
  },
  {
   "cell_type": "markdown",
   "source": [
    "**Задание 1.**\n",
    "Создать вектор (одномерный массив) размера 10, заполненный единицами."
   ],
   "metadata": {
    "collapsed": false
   }
  },
  {
   "cell_type": "code",
   "execution_count": 54,
   "outputs": [
    {
     "name": "stdout",
     "output_type": "stream",
     "text": [
      "[1. 1. 1. 1. 1. 1. 1. 1. 1. 1.]\n"
     ]
    }
   ],
   "source": [
    "# Создаем вектор размером 10, заполненный единицами\n",
    "vector = np.ones(10)\n",
    "\n",
    "print(vector)"
   ],
   "metadata": {
    "collapsed": false,
    "ExecuteTime": {
     "end_time": "2023-09-15T08:55:22.732792Z",
     "start_time": "2023-09-15T08:55:22.690537Z"
    }
   }
  },
  {
   "cell_type": "markdown",
   "source": [
    "**Задание 2.**\n",
    "Создать вектор (одномерный массив) со значениями от 10 до 49"
   ],
   "metadata": {
    "collapsed": false
   }
  },
  {
   "cell_type": "code",
   "execution_count": 55,
   "outputs": [
    {
     "name": "stdout",
     "output_type": "stream",
     "text": [
      "[10 11 12 13 14 15 16 17 18 19 20 21 22 23 24 25 26 27 28 29 30 31 32 33\n",
      " 34 35 36 37 38 39 40 41 42 43 44 45 46 47 48 49]\n"
     ]
    }
   ],
   "source": [
    "# Создаем вектор со значениями от 10 до 49\n",
    "vector = np.arange(10, 50)\n",
    "\n",
    "print(vector)"
   ],
   "metadata": {
    "collapsed": false,
    "ExecuteTime": {
     "end_time": "2023-09-15T08:55:22.733424Z",
     "start_time": "2023-09-15T08:55:22.695130Z"
    }
   }
  },
  {
   "cell_type": "markdown",
   "source": [
    "**Задание 3.**\n",
    "Создать вектор (одномерный массив) размера 10. Заполнить его случайными значениями. Найти индексы ненулевых элементов"
   ],
   "metadata": {
    "collapsed": false
   }
  },
  {
   "cell_type": "code",
   "execution_count": 56,
   "outputs": [
    {
     "name": "stdout",
     "output_type": "stream",
     "text": [
      "Вектор с случайными значениями:\n",
      "[0.49389484 0.26466631 0.50372276 0.95971186 0.03378105 0.45818948\n",
      " 0.92132464 0.06959601 0.92272768 0.55693825]\n",
      "Индексы ненулевых элементов:\n",
      "(array([0, 1, 2, 3, 4, 5, 6, 7, 8, 9]),)\n"
     ]
    }
   ],
   "source": [
    "# Создаем вектор размером 10 с случайными значениями от 0 до 1\n",
    "vector = np.random.rand(10)\n",
    "\n",
    "# Находим индексы ненулевых элементов\n",
    "non_zero_indices = np.nonzero(vector)\n",
    "\n",
    "print(\"Вектор с случайными значениями:\")\n",
    "print(vector)\n",
    "print(\"Индексы ненулевых элементов:\")\n",
    "print(non_zero_indices)"
   ],
   "metadata": {
    "collapsed": false,
    "ExecuteTime": {
     "end_time": "2023-09-15T08:55:22.768623Z",
     "start_time": "2023-09-15T08:55:22.699473Z"
    }
   }
  },
  {
   "cell_type": "markdown",
   "source": [
    "**Задание 4.**\n",
    "Создать матрицу (двумерный массив) 3x3 со значениями от 0 до 8"
   ],
   "metadata": {
    "collapsed": false
   }
  },
  {
   "cell_type": "code",
   "execution_count": 57,
   "outputs": [
    {
     "name": "stdout",
     "output_type": "stream",
     "text": [
      "[[0 1 2]\n",
      " [3 4 5]\n",
      " [6 7 8]]\n"
     ]
    }
   ],
   "source": [
    "# Создаем матрицу 3x3 с значениями от 0 до 8\n",
    "matrix = np.arange(9).reshape(3, 3)\n",
    "\n",
    "print(matrix)"
   ],
   "metadata": {
    "collapsed": false,
    "ExecuteTime": {
     "end_time": "2023-09-15T08:55:22.769598Z",
     "start_time": "2023-09-15T08:55:22.702872Z"
    }
   }
  },
  {
   "cell_type": "markdown",
   "source": [
    "**Задание 5.**\n",
    "Создать 8x8 матрицу и заполнить её в шахматном порядке, используя функцию tile"
   ],
   "metadata": {
    "collapsed": false
   }
  },
  {
   "cell_type": "code",
   "execution_count": 58,
   "outputs": [
    {
     "name": "stdout",
     "output_type": "stream",
     "text": [
      "[[0 1 0 1 0 1 0 1]\n",
      " [1 0 1 0 1 0 1 0]\n",
      " [0 1 0 1 0 1 0 1]\n",
      " [1 0 1 0 1 0 1 0]\n",
      " [0 1 0 1 0 1 0 1]\n",
      " [1 0 1 0 1 0 1 0]\n",
      " [0 1 0 1 0 1 0 1]\n",
      " [1 0 1 0 1 0 1 0]]\n"
     ]
    }
   ],
   "source": [
    "# Создаем базовую матрицу 2x2 для шахматной доски\n",
    "base_matrix = np.array([[0, 1], [1, 0]])\n",
    "\n",
    "# Используем функцию tile, чтобы создать 8x8 матрицу, повторяя базовую матрицу\n",
    "chessboard = np.tile(base_matrix, (4, 4))\n",
    "\n",
    "print(chessboard)"
   ],
   "metadata": {
    "collapsed": false,
    "ExecuteTime": {
     "end_time": "2023-09-15T08:55:22.770122Z",
     "start_time": "2023-09-15T08:55:22.707267Z"
    }
   }
  },
  {
   "cell_type": "markdown",
   "source": [
    "**Задание 6.**\n",
    "Создать вектор (одномерный массив) размера 10. Заполнить его случайными значениями. Заменить минимальный элемент на ноль"
   ],
   "metadata": {
    "collapsed": false
   }
  },
  {
   "cell_type": "code",
   "execution_count": 59,
   "outputs": [
    {
     "name": "stdout",
     "output_type": "stream",
     "text": [
      "Вектор с случайными значениями и заменой минимального элемента на ноль:\n",
      "[0.13480969 0.73248546 0.55015741 0.97504096 0.7681755  0.92072129\n",
      " 0.3003264  0.         0.89015325 0.32887682]\n"
     ]
    }
   ],
   "source": [
    "# Создаем вектор размером 10 с случайными значениями\n",
    "vector = np.random.rand(10)\n",
    "\n",
    "# Находим индекс минимального элемента в векторе\n",
    "min_index = np.argmin(vector)\n",
    "\n",
    "# Заменяем минимальный элемент на ноль\n",
    "vector[min_index] = 0\n",
    "\n",
    "print(\"Вектор с случайными значениями и заменой минимального элемента на ноль:\")\n",
    "print(vector)"
   ],
   "metadata": {
    "collapsed": false,
    "ExecuteTime": {
     "end_time": "2023-09-15T08:55:22.770545Z",
     "start_time": "2023-09-15T08:55:22.710878Z"
    }
   }
  },
  {
   "cell_type": "markdown",
   "source": [
    "**Задание 7.**\n",
    "Создать вектор (одномерный массив) размера 100. Заполнить его случайными значениями. Найти наиболее частое значение в массиве"
   ],
   "metadata": {
    "collapsed": false
   }
  },
  {
   "cell_type": "code",
   "execution_count": 60,
   "outputs": [
    {
     "name": "stdout",
     "output_type": "stream",
     "text": [
      "Вектор с случайными значениями:\n",
      "[3 3 3 2 8 4 3 7 2 5 4 5 5 4 1 3 1 4 5 5 2 2 7 4 6 2 3 8 4 9 3 9 6 1 0 1 4\n",
      " 3 0 0 9 3 9 9 6 5 4 1 1 4 4 2 8 1 4 9 0 7 3 7 8 0 1 7 2 7 2 9 6 0 4 3 0 9\n",
      " 2 5 4 7 0 1 7 5 8 4 9 7 0 4 9 8 6 7 4 9 3 8 1 6 8 8]\n",
      "Наиболее частое значение: 4\n"
     ]
    }
   ],
   "source": [
    "# Создаем вектор размером 100 с случайными значениями от 0 до 9\n",
    "vector = np.random.randint(0, 10, 100)\n",
    "\n",
    "# Используем Counter для подсчета частоты каждого значения\n",
    "value_counts = Counter(vector)\n",
    "\n",
    "# Находим наиболее частое значение\n",
    "most_common_value = value_counts.most_common(1)[0][0]\n",
    "\n",
    "print(\"Вектор с случайными значениями:\")\n",
    "print(vector)\n",
    "print(f\"Наиболее частое значение: {most_common_value}\")"
   ],
   "metadata": {
    "collapsed": false,
    "ExecuteTime": {
     "end_time": "2023-09-15T08:55:22.770964Z",
     "start_time": "2023-09-15T08:55:22.714468Z"
    }
   }
  },
  {
   "cell_type": "markdown",
   "source": [
    "**Задание 8.**\n",
    "Создать матрицу. Отнять среднее из каждой строки в матрице"
   ],
   "metadata": {
    "collapsed": false
   }
  },
  {
   "cell_type": "code",
   "execution_count": 61,
   "outputs": [
    {
     "name": "stdout",
     "output_type": "stream",
     "text": [
      "Исходная матрица:\n",
      "[[1 2 3]\n",
      " [4 5 6]\n",
      " [7 8 9]]\n",
      "Матрица с отнятыми средними значениями из каждой строки:\n",
      "[[-1.  0.  1.]\n",
      " [-1.  0.  1.]\n",
      " [-1.  0.  1.]]\n"
     ]
    }
   ],
   "source": [
    "# Создаем матрицу 3x3\n",
    "matrix = np.array([[1, 2, 3],\n",
    "                   [4, 5, 6],\n",
    "                   [7, 8, 9]])\n",
    "\n",
    "# Вычисляем среднее значение каждой строки\n",
    "row_means = np.mean(matrix, axis=1)\n",
    "\n",
    "# Отнимаем средние значения из каждой строки\n",
    "normalized_matrix = matrix - row_means.reshape(-1, 1)\n",
    "\n",
    "print(\"Исходная матрица:\")\n",
    "print(matrix)\n",
    "\n",
    "print(\"Матрица с отнятыми средними значениями из каждой строки:\")\n",
    "print(normalized_matrix)"
   ],
   "metadata": {
    "collapsed": false,
    "ExecuteTime": {
     "end_time": "2023-09-15T08:55:22.771919Z",
     "start_time": "2023-09-15T08:55:22.718193Z"
    }
   }
  },
  {
   "cell_type": "markdown",
   "source": [
    "**Задание 9.**\n",
    "Создать матрицу. Поменять две строки в матрице"
   ],
   "metadata": {
    "collapsed": false
   }
  },
  {
   "cell_type": "code",
   "execution_count": 62,
   "outputs": [
    {
     "name": "stdout",
     "output_type": "stream",
     "text": [
      "Исходная матрица:\n",
      "[[1 2 3]\n",
      " [4 5 6]\n",
      " [7 8 9]]\n",
      "Матрица после обмена строк 1 и 2:\n",
      "[[1 2 3]\n",
      " [7 8 9]\n",
      " [4 5 6]]\n"
     ]
    }
   ],
   "source": [
    "# Создаем матрицу 3x3\n",
    "matrix = np.array([[1, 2, 3],\n",
    "                   [4, 5, 6],\n",
    "                   [7, 8, 9]])\n",
    "\n",
    "print(\"Исходная матрица:\")\n",
    "print(matrix)\n",
    "\n",
    "# Меняем местами строки 1 и 2\n",
    "matrix[[1, 2]] = matrix[[2, 1]]\n",
    "\n",
    "print(\"Матрица после обмена строк 1 и 2:\")\n",
    "print(matrix)"
   ],
   "metadata": {
    "collapsed": false,
    "ExecuteTime": {
     "end_time": "2023-09-15T08:55:22.772431Z",
     "start_time": "2023-09-15T08:55:22.721062Z"
    }
   }
  },
  {
   "cell_type": "markdown",
   "source": [
    "**Задание 10.**\n",
    "Создать вектор (одномерный массив) размера 10. Заполнить его случайными значениями. Найти n наибольших значений в векторе"
   ],
   "metadata": {
    "collapsed": false
   }
  },
  {
   "cell_type": "code",
   "execution_count": 63,
   "outputs": [
    {
     "name": "stdout",
     "output_type": "stream",
     "text": [
      "Вектор с случайными значениями:\n",
      "[0.4498716  0.8983021  0.91642229 0.85594658 0.47745826 0.11196064\n",
      " 0.65010519 0.70954738 0.24096308 0.61140106]\n",
      "3 наибольших значений в векторе:\n",
      "[0.91642229 0.8983021  0.85594658]\n"
     ]
    }
   ],
   "source": [
    "# Создаем вектор размером 10 с случайными значениями от 0 до 1\n",
    "vector = np.random.rand(10)\n",
    "\n",
    "# кол-во\n",
    "n = 3\n",
    "\n",
    "# Находим n наибольших значений в векторе\n",
    "top_n_values = np.partition(vector, -n)[-n:]\n",
    "\n",
    "# Сортируем полученные значения по убыванию\n",
    "top_n_values = np.sort(top_n_values)[::-1]\n",
    "\n",
    "print(\"Вектор с случайными значениями:\")\n",
    "print(vector)\n",
    "print(f\"{n} наибольших значений в векторе:\")\n",
    "print(top_n_values)"
   ],
   "metadata": {
    "collapsed": false,
    "ExecuteTime": {
     "end_time": "2023-09-15T08:55:22.772615Z",
     "start_time": "2023-09-15T08:55:22.724750Z"
    }
   }
  },
  {
   "cell_type": "markdown",
   "source": [
    "**Задание 11.**\n",
    "Создать 5x5 матрицу со значениями в строках от 1 до 5."
   ],
   "metadata": {
    "collapsed": false
   }
  },
  {
   "cell_type": "code",
   "execution_count": 64,
   "outputs": [
    {
     "name": "stdout",
     "output_type": "stream",
     "text": [
      "[[1 2 3 4 5]\n",
      " [1 2 3 4 5]\n",
      " [1 2 3 4 5]\n",
      " [1 2 3 4 5]\n",
      " [1 2 3 4 5]]\n"
     ]
    }
   ],
   "source": [
    "# Создаем матрицу 5x5, где каждая строка содержит значения от 1 до 5\n",
    "matrix = np.array([np.arange(1, 6)] * 5)\n",
    "\n",
    "print(matrix)"
   ],
   "metadata": {
    "collapsed": false,
    "ExecuteTime": {
     "end_time": "2023-09-15T08:55:22.772713Z",
     "start_time": "2023-09-15T08:55:22.727308Z"
    }
   }
  },
  {
   "cell_type": "markdown",
   "source": [
    "**Задание 12.**\n",
    "Создать две матрицы 4x4 и 4x4. Найти их произведение. Найти диагональные элементы произведения матриц"
   ],
   "metadata": {
    "collapsed": false
   }
  },
  {
   "cell_type": "code",
   "execution_count": 65,
   "outputs": [
    {
     "name": "stdout",
     "output_type": "stream",
     "text": [
      "Первая матрица:\n",
      "[[ 1  2  3  4]\n",
      " [ 5  6  7  8]\n",
      " [ 9 10 11 12]\n",
      " [13 14 15 16]]\n",
      "Вторая матрица:\n",
      "[[17 18 19 20]\n",
      " [21 22 23 24]\n",
      " [25 26 27 28]\n",
      " [29 30 31 32]]\n",
      "Произведение матриц:\n",
      "[[ 250  260  270  280]\n",
      " [ 618  644  670  696]\n",
      " [ 986 1028 1070 1112]\n",
      " [1354 1412 1470 1528]]\n",
      "Диагональные элементы произведения:\n",
      "[ 250  644 1070 1528]\n"
     ]
    }
   ],
   "source": [
    "# Создаем первую матрицу 4x4\n",
    "matrix1 = np.array([[1, 2, 3, 4],\n",
    "                    [5, 6, 7, 8],\n",
    "                    [9, 10, 11, 12],\n",
    "                    [13, 14, 15, 16]])\n",
    "\n",
    "# Создаем вторую матрицу 4x4\n",
    "matrix2 = np.array([[17, 18, 19, 20],\n",
    "                    [21, 22, 23, 24],\n",
    "                    [25, 26, 27, 28],\n",
    "                    [29, 30, 31, 32]])\n",
    "\n",
    "# Находим произведение матриц\n",
    "product_matrix = np.dot(matrix1, matrix2)\n",
    "\n",
    "# Находим диагональные элементы произведения матриц\n",
    "diagonal_elements = np.diagonal(product_matrix)\n",
    "\n",
    "print(\"Первая матрица:\")\n",
    "print(matrix1)\n",
    "\n",
    "print(\"Вторая матрица:\")\n",
    "print(matrix2)\n",
    "\n",
    "print(\"Произведение матриц:\")\n",
    "print(product_matrix)\n",
    "\n",
    "print(\"Диагональные элементы произведения:\")\n",
    "print(diagonal_elements)"
   ],
   "metadata": {
    "collapsed": false,
    "ExecuteTime": {
     "end_time": "2023-09-15T08:55:22.802289Z",
     "start_time": "2023-09-15T08:55:22.729645Z"
    }
   }
  },
  {
   "cell_type": "markdown",
   "source": [],
   "metadata": {
    "collapsed": false
   }
  }
 ],
 "metadata": {
  "kernelspec": {
   "display_name": "Python 3",
   "language": "python",
   "name": "python3"
  },
  "language_info": {
   "codemirror_mode": {
    "name": "ipython",
    "version": 2
   },
   "file_extension": ".py",
   "mimetype": "text/x-python",
   "name": "python",
   "nbconvert_exporter": "python",
   "pygments_lexer": "ipython2",
   "version": "2.7.6"
  }
 },
 "nbformat": 4,
 "nbformat_minor": 0
}
